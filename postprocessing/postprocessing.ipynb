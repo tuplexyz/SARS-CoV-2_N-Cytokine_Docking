{
 "cells": [
  {
   "cell_type": "markdown",
   "metadata": {},
   "source": [
    "# Postprocessing"
   ]
  },
  {
   "cell_type": "code",
   "execution_count": null,
   "metadata": {},
   "outputs": [],
   "source": [
    "import pandas as pd\n",
    "\n",
    "directory_prefix = 'run1/structures/it1/water/'"
   ]
  },
  {
   "cell_type": "code",
   "execution_count": null,
   "metadata": {},
   "outputs": [],
   "source": [
    "## Get best cluster based on lowest van der Waals energy\n",
    "# vdw_clusters = pd.read_csv(f'{directory_prefix}cluster_ener.txt', delimiter=r\"\\s+\").sort_values(by=['Evdw'], ascending = True)\n",
    "vdw_clusters = pd.read_csv(directory_prefix+'cluster_ener.txt', delimiter=r\"\\s+\").sort(['Evdw'], ascending = True)\n",
    "best_cluster = vdw_clusters.iat[0, 0]"
   ]
  },
  {
   "cell_type": "code",
   "execution_count": null,
   "metadata": {},
   "outputs": [],
   "source": [
    "## Get best PDB file from best cluster\n",
    "# cluster_pdbs = pd.read_csv(f'{directory_prefix}{best_cluster}_ener', delimiter=r\"\\s+\").sort_values(by=['Evdw'], ascending = True)\n",
    "cluster_pdbs = pd.read_csv(directory_prefix+best_cluster+'_ener', delimiter=r\"\\s+\").sort(['Evdw'], ascending = True)\n",
    "best_pdb = cluster_pdbs.iat[0, 0]"
   ]
  }
 ],
 "metadata": {
  "kernelspec": {
   "display_name": "Python 3",
   "language": "python",
   "name": "python3"
  },
  "language_info": {
   "name": "python",
   "version": "3.7.13"
  },
  "orig_nbformat": 4
 },
 "nbformat": 4,
 "nbformat_minor": 2
}

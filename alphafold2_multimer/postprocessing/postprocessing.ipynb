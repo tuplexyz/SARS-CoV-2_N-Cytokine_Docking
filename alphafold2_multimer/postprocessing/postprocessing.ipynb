{
 "cells": [
  {
   "cell_type": "markdown",
   "metadata": {},
   "source": [
    "# Postprocessing Docking Results"
   ]
  },
  {
   "cell_type": "code",
   "execution_count": 1,
   "metadata": {},
   "outputs": [],
   "source": [
    "import os, shutil\n",
    "import pandas as pd\n",
    "\n",
    "## Turn off SettingWithCopyWarning\n",
    "pd.set_option('mode.chained_assignment', None)"
   ]
  },
  {
   "cell_type": "markdown",
   "metadata": {},
   "source": [
    "## Parse AlphaFold2 Results"
   ]
  },
  {
   "cell_type": "code",
   "execution_count": 2,
   "metadata": {},
   "outputs": [],
   "source": [
    "## Define path to results directory\n",
    "results_directory_path = \"./best_AF2_and_GDock\""
   ]
  },
  {
   "cell_type": "code",
   "execution_count": 10,
   "metadata": {},
   "outputs": [
    {
     "data": {
      "text/html": [
       "<div>\n",
       "<style scoped>\n",
       "    .dataframe tbody tr th:only-of-type {\n",
       "        vertical-align: middle;\n",
       "    }\n",
       "\n",
       "    .dataframe tbody tr th {\n",
       "        vertical-align: top;\n",
       "    }\n",
       "\n",
       "    .dataframe thead th {\n",
       "        text-align: right;\n",
       "    }\n",
       "</style>\n",
       "<table border=\"1\" class=\"dataframe\">\n",
       "  <thead>\n",
       "    <tr style=\"text-align: right;\">\n",
       "      <th></th>\n",
       "      <th>experiment_name</th>\n",
       "      <th>n_protein</th>\n",
       "      <th>cytokine_protein</th>\n",
       "      <th>best_pdb_path</th>\n",
       "      <th>prodigy_deltaG_kcalpermol</th>\n",
       "      <th>prodigy_dissociation_constant_M</th>\n",
       "    </tr>\n",
       "  </thead>\n",
       "  <tbody>\n",
       "  </tbody>\n",
       "</table>\n",
       "</div>"
      ],
      "text/plain": [
       "Empty DataFrame\n",
       "Columns: [experiment_name, n_protein, cytokine_protein, best_pdb_path, prodigy_deltaG_kcalpermol, prodigy_dissociation_constant_M]\n",
       "Index: []"
      ]
     },
     "execution_count": 10,
     "metadata": {},
     "output_type": "execute_result"
    }
   ],
   "source": [
    "## Create empty DataFrame for metrics\n",
    "experiment_results_df = pd.DataFrame(columns=[\n",
    "    'experiment_name', \n",
    "    'n_protein',\n",
    "    'cytokine_protein',\n",
    "    'best_pdb_path',\n",
    "    'prodigy_deltaG_kcalpermol',\n",
    "    'prodigy_dissociation_constant_M'\n",
    "])\n",
    "\n",
    "\n",
    "## Show DataFrame\n",
    "experiment_results_df"
   ]
  },
  {
   "cell_type": "markdown",
   "metadata": {},
   "source": [
    "## Generate PRODIGY Predictions\n",
    "\n",
    "Note: You must have PRODIGY installed.\n",
    "```sh\n",
    "git clone https://github.com/haddocking/prodigy\n",
    "pip install prodigy/.\n",
    "```"
   ]
  },
  {
   "cell_type": "code",
   "execution_count": null,
   "metadata": {},
   "outputs": [],
   "source": [
    "## To run on remote SuperCloud (Linux)\n",
    "local_base_path = \"/home/gridsan/cford/seqer_shared\"\n",
    "\n",
    "for pdb_file in os.listdir(results_directory_path):\n",
    "    experiment_name = pdb_file.split(\"_relaxed\")[0]\n",
    "    n_protein = experiment_name.split(\"_\")[0].replace(\"-N\", \"\")\n",
    "    cytokine_protein = experiment_name.split(\"_\")[1]\n",
    "    best_pdb_path = f'{results_directory_path}/{pdb_file}'\n",
    "    best_pdb_path_full = f'{local_base_path}/{results_directory_path.replace(\"./\", \"\")}/{pdb_file}'\n",
    "    \n",
    "    ## Run PRODIGY and parse stdout\n",
    "    prodigy_output = os.popen(f'/home/gridsan/cford/.local/bin/prodigy {best_pdb_path_full}').read()\n",
    "    prodigy_output_lines = prodigy_output.split('\\n')\n",
    "    if len(prodigy_output_lines) > 1:\n",
    "        prodigy_deltaG_kcalpermol = float(prodigy_output_lines[-3].split(':')[1].replace(' ', ''))\n",
    "        prodigy_dissociation_constant_M = float(prodigy_output_lines[-2].split(':')[1].replace(' ', ''))\n",
    "        # print(predicted_binding_affinity)\n",
    "\n",
    "        ## Add values to DataFrame\n",
    "        experiment_results_df.loc[len(experiment_results_df.index)] = [\n",
    "                experiment_name,\n",
    "                n_protein,\n",
    "                cytokine_protein,\n",
    "                best_pdb_path,\n",
    "                prodigy_deltaG_kcalpermol,\n",
    "                prodigy_dissociation_constant_M] \n",
    "\n",
    "experiment_results_df"
   ]
  },
  {
   "cell_type": "code",
   "execution_count": null,
   "metadata": {},
   "outputs": [],
   "source": [
    "## Write out results DataFrame\n",
    "experiment_results_df.to_csv(\"best_AF2_and_GDock_experiment_results.csv\")"
   ]
  },
  {
   "cell_type": "code",
   "execution_count": null,
   "metadata": {},
   "outputs": [],
   "source": []
  }
 ],
 "metadata": {
  "kernelspec": {
   "display_name": "Python 3 (ipykernel)",
   "language": "python",
   "name": "python3"
  },
  "language_info": {
   "codemirror_mode": {
    "name": "ipython",
    "version": 3
   },
   "file_extension": ".py",
   "mimetype": "text/x-python",
   "name": "python",
   "nbconvert_exporter": "python",
   "pygments_lexer": "ipython3",
   "version": "3.8.13"
  }
 },
 "nbformat": 4,
 "nbformat_minor": 4
}
